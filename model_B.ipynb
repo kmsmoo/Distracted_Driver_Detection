{
 "cells": [
  {
   "cell_type": "code",
   "execution_count": 2,
   "metadata": {
    "collapsed": true
   },
   "outputs": [],
   "source": [
    "import pandas as pd\n",
    "import numpy as np\n",
    "import joblib\n",
    "from sklearn.svm import SVC\n",
    "from sklearn.cross_validation import train_test_split\n",
    "from sklearn.metrics import classification_report\n",
    "from sklearn.metrics import confusion_matrix"
   ]
  },
  {
   "cell_type": "markdown",
   "metadata": {},
   "source": [
    "### Read Data "
   ]
  },
  {
   "cell_type": "code",
   "execution_count": 3,
   "metadata": {
    "collapsed": false
   },
   "outputs": [],
   "source": [
    "data = pd.read_csv(\"data/driver_image.csv\")\n",
    "data = data.ix[:,1:]\n",
    "X_data = data.ix[:,:-1]\n",
    "y_data = data.ix[:,-1]\n",
    "X_train, X_test, y_train, y_test = train_test_split(X_data, y_data, test_size=0.25)"
   ]
  },
  {
   "cell_type": "markdown",
   "metadata": {},
   "source": [
    "### Support Vector Machine(Linear) "
   ]
  },
  {
   "cell_type": "code",
   "execution_count": null,
   "metadata": {
    "collapsed": true
   },
   "outputs": [],
   "source": [
    "%%time\n",
    "svc_linear = SVC(kernel='linear').fit(X_train, y_train)"
   ]
  },
  {
   "cell_type": "code",
   "execution_count": 4,
   "metadata": {
    "collapsed": false
   },
   "outputs": [
    {
     "ename": "NameError",
     "evalue": "name 'svc_linear' is not defined",
     "output_type": "error",
     "traceback": [
      "\u001b[1;31m---------------------------------------------------------------------------\u001b[0m",
      "\u001b[1;31mNameError\u001b[0m                                 Traceback (most recent call last)",
      "\u001b[1;32m<ipython-input-4-f991f45030fe>\u001b[0m in \u001b[0;36m<module>\u001b[1;34m()\u001b[0m\n\u001b[1;32m----> 1\u001b[1;33m \u001b[0mjoblib\u001b[0m\u001b[1;33m.\u001b[0m\u001b[0mdump\u001b[0m\u001b[1;33m(\u001b[0m\u001b[0msvc_linear\u001b[0m\u001b[1;33m,\u001b[0m \u001b[1;34m\"model/svc_linear\"\u001b[0m\u001b[1;33m)\u001b[0m \u001b[1;31m#save model\u001b[0m\u001b[1;33m\u001b[0m\u001b[0m\n\u001b[0m",
      "\u001b[1;31mNameError\u001b[0m: name 'svc_linear' is not defined"
     ]
    }
   ],
   "source": [
    "joblib.dump(svc_linear, \"model/svc_linear\") #save model"
   ]
  },
  {
   "cell_type": "code",
   "execution_count": 5,
   "metadata": {
    "collapsed": false
   },
   "outputs": [],
   "source": [
    "svc_linear = joblib.load(\"model/svc_linear\")"
   ]
  },
  {
   "cell_type": "code",
   "execution_count": 6,
   "metadata": {
    "collapsed": false
   },
   "outputs": [
    {
     "name": "stdout",
     "output_type": "stream",
     "text": [
      "Wall time: 3min 31s\n"
     ]
    }
   ],
   "source": [
    "%%time\n",
    "linear_predict = svc_linear.predict(X_test)"
   ]
  },
  {
   "cell_type": "code",
   "execution_count": 7,
   "metadata": {
    "collapsed": false
   },
   "outputs": [
    {
     "name": "stdout",
     "output_type": "stream",
     "text": [
      "             precision    recall  f1-score   support\n",
      "\n",
      "        0.0       0.99      1.00      0.99       643\n",
      "        1.0       1.00      1.00      1.00       579\n",
      "        2.0       0.99      1.00      1.00       555\n",
      "        3.0       1.00      1.00      1.00       620\n",
      "        4.0       1.00      0.99      1.00       582\n",
      "        5.0       1.00      0.99      1.00       561\n",
      "        6.0       1.00      1.00      1.00       574\n",
      "        7.0       1.00      1.00      1.00       506\n",
      "        8.0       1.00      0.99      0.99       475\n",
      "        9.0       0.99      0.99      0.99       511\n",
      "\n",
      "avg / total       1.00      1.00      1.00      5606\n",
      "\n"
     ]
    }
   ],
   "source": [
    "print(classification_report(y_test, linear_predict))"
   ]
  },
  {
   "cell_type": "code",
   "execution_count": 8,
   "metadata": {
    "collapsed": false
   },
   "outputs": [
    {
     "data": {
      "text/plain": [
       "array([[642,   0,   0,   0,   0,   0,   1,   0,   0,   0],\n",
       "       [  1, 578,   0,   0,   0,   0,   0,   0,   0,   0],\n",
       "       [  0,   0, 555,   0,   0,   0,   0,   0,   0,   0],\n",
       "       [  1,   0,   0, 619,   0,   0,   0,   0,   0,   0],\n",
       "       [  3,   0,   1,   0, 578,   0,   0,   0,   0,   0],\n",
       "       [  2,   0,   0,   0,   0, 557,   0,   0,   1,   1],\n",
       "       [  0,   0,   1,   0,   0,   0, 573,   0,   0,   0],\n",
       "       [  0,   0,   1,   0,   1,   0,   0, 504,   0,   0],\n",
       "       [  1,   0,   1,   0,   0,   0,   0,   0, 471,   2],\n",
       "       [  1,   1,   0,   0,   0,   1,   0,   0,   1, 507]])"
      ]
     },
     "execution_count": 8,
     "metadata": {},
     "output_type": "execute_result"
    }
   ],
   "source": [
    "confusion_matrix(y_test, linear_predict)"
   ]
  },
  {
   "cell_type": "code",
   "execution_count": 9,
   "metadata": {
    "collapsed": false
   },
   "outputs": [
    {
     "data": {
      "text/plain": [
       "22"
      ]
     },
     "execution_count": 9,
     "metadata": {},
     "output_type": "execute_result"
    }
   ],
   "source": [
    "sum(y_test != linear_predict)"
   ]
  },
  {
   "cell_type": "markdown",
   "metadata": {},
   "source": [
    "### Kernel Support Vector Machine (RBF)"
   ]
  },
  {
   "cell_type": "code",
   "execution_count": null,
   "metadata": {
    "collapsed": true
   },
   "outputs": [],
   "source": [
    "from sklearn.svm import SVC"
   ]
  },
  {
   "cell_type": "code",
   "execution_count": 36,
   "metadata": {
    "collapsed": true
   },
   "outputs": [],
   "source": [
    "%%time\n",
    "svc_rbf = SVC(kernel='rbf', gamma=0.00000009).fit(X_train, y_train)"
   ]
  },
  {
   "cell_type": "code",
   "execution_count": 37,
   "metadata": {
    "collapsed": false
   },
   "outputs": [
    {
     "data": {
      "text/plain": [
       "['model/svc_rbf',\n",
       " 'model/svc_rbf_01.npy',\n",
       " 'model/svc_rbf_02.npy',\n",
       " 'model/svc_rbf_03.npy',\n",
       " 'model/svc_rbf_04.npy',\n",
       " 'model/svc_rbf_05.npy',\n",
       " 'model/svc_rbf_06.npy',\n",
       " 'model/svc_rbf_07.npy',\n",
       " 'model/svc_rbf_08.npy',\n",
       " 'model/svc_rbf_09.npy',\n",
       " 'model/svc_rbf_10.npy',\n",
       " 'model/svc_rbf_11.npy']"
      ]
     },
     "execution_count": 37,
     "metadata": {},
     "output_type": "execute_result"
    }
   ],
   "source": [
    "joblib.dump(svc_rbf, \"model/svc_rbf\") #save model"
   ]
  },
  {
   "cell_type": "code",
   "execution_count": 10,
   "metadata": {
    "collapsed": true
   },
   "outputs": [],
   "source": [
    "svc_rbf = joblib.load(\"model/svc_rbf\")"
   ]
  },
  {
   "cell_type": "code",
   "execution_count": 11,
   "metadata": {
    "collapsed": false
   },
   "outputs": [
    {
     "name": "stdout",
     "output_type": "stream",
     "text": [
      "Wall time: 4min 25s\n"
     ]
    }
   ],
   "source": [
    "%%time\n",
    "rbf_predict = svc_rbf.predict(X_test)"
   ]
  },
  {
   "cell_type": "code",
   "execution_count": 12,
   "metadata": {
    "collapsed": false
   },
   "outputs": [
    {
     "name": "stdout",
     "output_type": "stream",
     "text": [
      "             precision    recall  f1-score   support\n",
      "\n",
      "        0.0       1.00      1.00      1.00       643\n",
      "        1.0       1.00      1.00      1.00       579\n",
      "        2.0       1.00      1.00      1.00       555\n",
      "        3.0       1.00      1.00      1.00       620\n",
      "        4.0       1.00      1.00      1.00       582\n",
      "        5.0       1.00      0.99      1.00       561\n",
      "        6.0       1.00      1.00      1.00       574\n",
      "        7.0       1.00      1.00      1.00       506\n",
      "        8.0       0.99      1.00      0.99       475\n",
      "        9.0       0.99      1.00      1.00       511\n",
      "\n",
      "avg / total       1.00      1.00      1.00      5606\n",
      "\n"
     ]
    }
   ],
   "source": [
    "print(classification_report(y_test, rbf_predict))"
   ]
  },
  {
   "cell_type": "code",
   "execution_count": 13,
   "metadata": {
    "collapsed": false
   },
   "outputs": [
    {
     "data": {
      "text/plain": [
       "array([[641,   0,   0,   1,   0,   0,   0,   0,   0,   1],\n",
       "       [  0, 579,   0,   0,   0,   0,   0,   0,   0,   0],\n",
       "       [  0,   0, 555,   0,   0,   0,   0,   0,   0,   0],\n",
       "       [  1,   0,   0, 618,   1,   0,   0,   0,   0,   0],\n",
       "       [  0,   0,   0,   0, 582,   0,   0,   0,   0,   0],\n",
       "       [  2,   0,   0,   0,   1, 557,   0,   0,   1,   0],\n",
       "       [  0,   0,   0,   0,   0,   0, 574,   0,   0,   0],\n",
       "       [  0,   0,   0,   0,   0,   0,   0, 506,   0,   0],\n",
       "       [  0,   0,   0,   0,   0,   0,   0,   0, 473,   2],\n",
       "       [  0,   0,   0,   0,   0,   0,   0,   0,   2, 509]])"
      ]
     },
     "execution_count": 13,
     "metadata": {},
     "output_type": "execute_result"
    }
   ],
   "source": [
    "confusion_matrix(y_test, rbf_predict)"
   ]
  },
  {
   "cell_type": "code",
   "execution_count": 14,
   "metadata": {
    "collapsed": false
   },
   "outputs": [
    {
     "data": {
      "text/plain": [
       "12"
      ]
     },
     "execution_count": 14,
     "metadata": {},
     "output_type": "execute_result"
    }
   ],
   "source": [
    "sum(y_test != rbf_predict)"
   ]
  },
  {
   "cell_type": "code",
   "execution_count": null,
   "metadata": {
    "collapsed": true
   },
   "outputs": [],
   "source": []
  }
 ],
 "metadata": {
  "anaconda-cloud": {},
  "kernelspec": {
   "display_name": "Python [Root]",
   "language": "python",
   "name": "Python [Root]"
  },
  "language_info": {
   "codemirror_mode": {
    "name": "ipython",
    "version": 3
   },
   "file_extension": ".py",
   "mimetype": "text/x-python",
   "name": "python",
   "nbconvert_exporter": "python",
   "pygments_lexer": "ipython3",
   "version": "3.5.1"
  }
 },
 "nbformat": 4,
 "nbformat_minor": 0
}
